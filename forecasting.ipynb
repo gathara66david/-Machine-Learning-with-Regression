{
 "cells": [
  {
   "cell_type": "code",
   "execution_count": 1,
   "metadata": {},
   "outputs": [],
   "source": [
    "import pandas as pd"
   ]
  },
  {
   "cell_type": "code",
   "execution_count": null,
   "metadata": {},
   "outputs": [],
   "source": [
    "btc_df = pd.read_csv(r\"C:\\Users\\David gathara marigi\\Downloads\\bitcoin_price.csv\")"
   ]
  },
  {
   "cell_type": "code",
   "execution_count": null,
   "metadata": {},
   "outputs": [],
   "source": [
    "btc_df['time'] = pd.to_datetime(btc_df['time'], unit='ms') \n",
    "btc_df.set_index('time', inplace=True) \n",
    "btc_df = btc_df[['close', 'volume']]"
   ]
  },
  {
   "cell_type": "code",
   "execution_count": null,
   "metadata": {},
   "outputs": [],
   "source": [
    "btc_df['close_1d_future'] = btc_df['close'].shift(-1) \n",
    "btc_df.dropna(inplace=True)"
   ]
  },
  {
   "cell_type": "code",
   "execution_count": null,
   "metadata": {},
   "outputs": [],
   "source": [
    "features = btc_df.drop('close_1d_future', axis=1) \n",
    "targets = btc_df['close_1d_future'] \n",
    "train_idx = int(0.75 * btc_df.shape[0]) \n",
    "x_train = features.iloc[:train_idx] \n",
    "y_train = targets.iloc[:train_idx] \n",
    "x_test = features.iloc[train_idx:] \n",
    "y_test = targets.iloc[train_idx:]"
   ]
  },
  {
   "cell_type": "code",
   "execution_count": null,
   "metadata": {},
   "outputs": [],
   "source": [
    "from sklearn.model_selection import TimeSeriesSplit\n",
    "from sklearn.linear_model import LassoCV\n",
    "from sklearn.metrics import mean_absolute_error as mae"
   ]
  },
  {
   "cell_type": "code",
   "execution_count": null,
   "metadata": {},
   "outputs": [],
   "source": [
    "l1_lr = LassoCV(cv=TimeSeriesSplit()) \n",
    "l1_lr.fit(x_train, y_train) \n",
    "print(mae(y_train, l1_lr.predict(x_train))) \n",
    "print(mae(y_test, l1_lr.predict(x_test)))"
   ]
  },
  {
   "cell_type": "code",
   "execution_count": null,
   "metadata": {},
   "outputs": [],
   "source": [
    "train_dates = btc_df.index[:train_idx] \n",
    "test_dates = btc_df.index[train_idx:] \n",
    "train_predictions = l1_lr.predict(x_train) \n",
    "test_predictions = l1_lr.predict(x_test) \n",
    "plt.plot_date(train_dates, y_train, fmt='-', color='b') \n",
    "plt.plot_date(train_dates, train_predictions, fmt='--', \n",
    "color='orange') \n",
    "plt.plot_date(test_dates, y_test, fmt='-', color='k') \n",
    "plt.plot_date(test_dates, test_predictions, fmt='--', \n",
    "color='r') \n",
    "plt.axvline(btc_df.index[train_idx]) \n",
    "plt.yscale('log')"
   ]
  },
  {
   "cell_type": "code",
   "execution_count": null,
   "metadata": {},
   "outputs": [],
   "source": [
    "btc_df.reset_index(inplace=True) \n",
    "btc_df.drop('close_1d_future', axis=1, inplace=True) \n",
    "btc_df.rename(columns={'close': 'y', 'time': 'ds'}, \n",
    "inplace=True)"
   ]
  },
  {
   "cell_type": "code",
   "execution_count": null,
   "metadata": {},
   "outputs": [],
   "source": [
    "from prophet import Prophet"
   ]
  },
  {
   "cell_type": "code",
   "execution_count": null,
   "metadata": {},
   "outputs": [],
   "source": [
    "m = Prophet() \n",
    "m.fit(btc_df)"
   ]
  },
  {
   "cell_type": "code",
   "execution_count": null,
   "metadata": {},
   "outputs": [],
   "source": [
    "future = m.make_future_dataframe(periods=365) \n",
    "forecast = m.predict(future) \n",
    "m.plot(forecast)"
   ]
  },
  {
   "cell_type": "code",
   "execution_count": null,
   "metadata": {},
   "outputs": [],
   "source": [
    "m.plot_components(forecast)"
   ]
  }
 ],
 "metadata": {
  "kernelspec": {
   "display_name": "Python 3",
   "language": "python",
   "name": "python3"
  },
  "language_info": {
   "codemirror_mode": {
    "name": "ipython",
    "version": 3
   },
   "file_extension": ".py",
   "mimetype": "text/x-python",
   "name": "python",
   "nbconvert_exporter": "python",
   "pygments_lexer": "ipython3",
   "version": "3.12.9"
  }
 },
 "nbformat": 4,
 "nbformat_minor": 2
}
