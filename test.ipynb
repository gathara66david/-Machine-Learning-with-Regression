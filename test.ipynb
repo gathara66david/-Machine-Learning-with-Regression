{
 "cells": [
  {
   "cell_type": "code",
   "execution_count": null,
   "metadata": {},
   "outputs": [],
   "source": [
    "\"\"\"Use the full Ames housing dataset in this book's GitHub repository (under\n",
    " Chapter13\\data\\housing_data_full.csv ) and improve upon our linear\n",
    " regression model to predict house sale prices. You might try some feature\n",
    " engineering, data cleaning, and feature selection in order to improve your\n",
    " results.\"\"\""
   ]
  }
 ],
 "metadata": {
  "language_info": {
   "name": "python"
  }
 },
 "nbformat": 4,
 "nbformat_minor": 2
}
